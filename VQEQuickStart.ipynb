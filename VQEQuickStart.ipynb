{
  "cells": [
    {
      "cell_type": "markdown",
      "id": "0XcowLEOjGoV",
      "metadata": {
        "id": "0XcowLEOjGoV"
      },
      "source": [
        "# Variational Quantum Eigensolver"
      ]
    },
    {
      "cell_type": "markdown",
      "id": "b553078f",
      "metadata": {
        "id": "b553078f"
      },
      "source": [
        "Алгоритм \"Variational Quantum Eigensolver\" - це гібридний алгоритм із використанням класичних і квантових обчислень.\n",
        "\n",
        "В цьому алгоритмі класичний комп'ютер керує експериментальними параметрами, що контролюють підготовку квантового стану, потім квантовий комп’ютер реалізує цей стан із кубітами і обчислює його властивості.\n",
        "\n",
        "## Терміни (всього 3)\n",
        "\n",
        "Для початку введемо визначення трьох ключових термінів:\n",
        "\n",
        "* [Хвильова функція](https://uk.wikipedia.org/wiki/Хвильова_функція) $|\\Psi⟩$ (Wavefunction): математичний опис квантового стану.\n",
        "* [Гамільтоніан](https://uk.wikipedia.org/wiki/Гамільтоніан) (Hamiltonian): квантовий енергетичний оператор, який описує загальну енергію квантової системи.\n",
        "* [Квантові вентилі](https://uk.wikipedia.org/wiki/Квантовий_вентиль) (Quantum gates): операції, що виконуються над кубітами, маніпуляції квантовими станами. (Просто: аналогом квантових вентилів є базові операції в класичних алгоритмах - І, АБО, НІ і т.д.)\n",
        "\n",
        "## Теоретична частина\n",
        "\n",
        "Ось як виглядає використання VQE для обчислення за допомогою квантового комп’ютера:\n",
        "\n",
        "1. Перетворення [молекулярного Гамільтоніана](https://pennylane.ai/qml/demos/tutorial_quantum_chemistry/) у кубітовий Гамільтоніан.\n",
        "\n",
        "   Береться репрезентація взаємодій електронів в молекулі і встановлюється співвідношення з системою кубітів. Ви можете уявити взаємодію між електронними орбіталями в молекулах як про створення квантової заплутаності у системі кубітів. Чим більша молекула, яку ви намагаєтеся змоделювати, тим більше у вас електронних орбіталей, отже, тим більше кубітів вам потрібно.\n",
        "\n",
        "   ![VQE Circuit](vqe_circuit.png \"VQE\") ([arXiv:1704.05018](https://arxiv.org/pdf/1704.05018.pdf))\n",
        "\n",
        "2. Вибір \"пробної хвильової функції\" або випадкового початкового стану і кодування його на квантовому комп'ютері.\n",
        "\n",
        "   Уявіть, що цей пробний стан - це здогадка щодо електронної конфігурації (оскільки ви ще не знаєте відповіді). Створюється квантовий стан на квантовому процесорі, який представляє конкретну версію хвильової функції, використовуючи комбінацію заплутаних вентилів, однокубітових вентилів та їх послідовності.\n",
        "\n",
        "   <img src=\"./bloch_sphere.png\" width=\"300px\">\n",
        "\n",
        "3. Оцінюється енергія пробного (початкового) стану.\n",
        "\n",
        "   Це робиться шляхом вимірювання аспектів квантового стану, який ви створили на попередньому кроці. Враховуючи те, що ви знаєте про Гамільтоніан молекули, ви можете зв’язати це з енергією в молекулі для даної електронної конфігурації.\n",
        "\n",
        "4. Ця енергія передається оптимізатору, який працює на класичному комп’ютері.\n",
        "\n",
        "   Потім оптимізатор генерує новий набір параметрів, які створюють нову пробну хвильову функцію на квантовому комп'ютері з меншою енергією. Процес повторюється, поки енергія не зійдеться до найнижчого значення. Ця кінцева енергія відповідає рішенню енергії основного стану (Варіаційний принцип Рітца).\n",
        "\n",
        "   $|\\Phi⟩ = E_{ground}|\\Phi⟩$\n",
        "\n",
        "Кроки 2-4 повторюються для Гамільтоніанів, що відповідають різним енергіям. Тоді Гамільтоніан з найменшою енергією відповідає конфігурації рівноваги, і вуаля! Ви знаєте відповідь.\n",
        "\n",
        "Здатність використовувати квантовий комп’ютер для виконання завдань, які зазвичай важкі для класичних комп’ютерів (наприклад, створення пробного стану та вимірювання його енергії), є важливою частиною того, чому такий підхід є настільки перспективним."
      ]
    },
    {
      "cell_type": "markdown",
      "id": "29d888fa",
      "metadata": {
        "id": "29d888fa"
      },
      "source": [
        "## Практична частина: імплементація VQE для квантового комп'ютера PennyLane\n",
        "\n",
        "У цій частини ми програмно реалізуємо VQE для знаходження основного стану молекули водню $H_2$. Спочатку ми побудуємо Гамільтоніан молекули, потім квантову програму для підготовки початкового стану і функцію втрат для оцінки енергії ([Першоджерело](https://pennylane.ai/qml/demos/tutorial_vqe/)).\n"
      ]
    },
    {
      "cell_type": "code",
      "execution_count": null,
      "id": "378affd1",
      "metadata": {
        "id": "378affd1"
      },
      "outputs": [],
      "source": [
        "%pip install pennylane\n",
        "%pip install matplotlib\n",
        "%pip install jax\n",
        "%pip install optax\n",
        "\n",
        "import pennylane as qml\n",
        "import matplotlib.pyplot as plt\n",
        "from jax import numpy as np\n",
        "import jax\n",
        "import optax\n",
        "\n",
        "jax.config.update(\"jax_platform_name\", \"cpu\")\n",
        "jax.config.update('jax_enable_x64', True)"
      ]
    },
    {
      "cell_type": "markdown",
      "id": "lxZw0WB82ggo",
      "metadata": {
        "id": "lxZw0WB82ggo"
      },
      "source": [
        "### Гамільтоніан\n",
        "\n",
        "Перший крок - опис молекули. Для цього необхідно вказати список атомів і масив їх координат."
      ]
    },
    {
      "cell_type": "code",
      "execution_count": null,
      "id": "afc2e72a",
      "metadata": {
        "id": "afc2e72a"
      },
      "outputs": [],
      "source": [
        "symbols = [\"H\", \"H\"]\n",
        "# symbols = [\"H\", \"H\", \"H\", \"H\"]\n",
        "\n",
        "coordinates = np.array([0.0, 0.0, -0.6614, 0.0, 0.0, 0.6614])\n",
        "# coordinates = np.array([-1.5, 0.0, 0.0, -0.5, 0.0, 0.0, 0.5, 0.0, 0.0, 1.5, 0.0, 0.0])"
      ]
    },
    {
      "cell_type": "markdown",
      "id": "eb9ca8ad",
      "metadata": {
        "id": "eb9ca8ad"
      },
      "source": [
        "Для більш складних молекул структуру можна імпортувати із файла використовуючи функцію [read_structure()](https://docs.pennylane.ai/en/stable/code/api/pennylane.qchem.read_structure.html#pennylane.qchem.read_structure)\n",
        "\n",
        "Тепер ми можемо побудувати Гамільтоніан:"
      ]
    },
    {
      "cell_type": "code",
      "execution_count": null,
      "id": "812eec18",
      "metadata": {
        "id": "812eec18"
      },
      "outputs": [],
      "source": [
        "H, qubits = qml.qchem.molecular_hamiltonian(symbols, coordinates)\n",
        "\n",
        "print(\"Number of qubits = \", qubits)\n",
        "print(\"The Hamiltonian is \", H)"
      ]
    },
    {
      "cell_type": "markdown",
      "id": "34460f3a",
      "metadata": {
        "id": "34460f3a"
      },
      "source": [
        "Вивід функції, це комбінація операторів Паулі і кількість кубітів, які необхідні для квантової симуляції.\n",
        "\n",
        "Більш детально про побудову складних Гамільтоніанів: [Building molecular Hamiltonians](https://pennylane.ai/qml/demos/tutorial_quantum_chemistry/)"
      ]
    },
    {
      "cell_type": "markdown",
      "id": "e5b473d2",
      "metadata": {
        "id": "e5b473d2"
      },
      "source": [
        "### Підключення квантового комп'ютера"
      ]
    },
    {
      "cell_type": "code",
      "execution_count": null,
      "id": "e0fc63d8",
      "metadata": {
        "id": "e0fc63d8"
      },
      "outputs": [],
      "source": [
        "device = qml.device(\"lightning.qubit\", wires=qubits)"
      ]
    },
    {
      "cell_type": "markdown",
      "id": "38509602",
      "metadata": {
        "id": "38509602"
      },
      "source": [
        "### Пробна хвильова функція\n",
        "\n",
        "У наступному кроці нам потрібно означити пробну хвильову функцію і закодувати її з допомогою кубітів у формі:\n",
        "\n",
        "$$\\vert \\Psi(\\theta) \\rangle = \\cos(\\theta/2)~|1100\\rangle -\\sin(\\theta/2)~|0011\\rangle,$$\n",
        "\n",
        "де $\\theta$ - варіаційни параметр, який потрібно оптимізувати.\n",
        "\n",
        "* Перша частина $|1100\\rangle$ представляє стан, де два електрони\n",
        "у молекулі знаходяться на найнижчих орбіталях, - [стан Гартрі-Фока](https://uk.wikipedia.org/wiki/Метод_Гартрі_—_Фока). В нотації Йордана-Вігнера ([Jordan-Wigner](https://en.wikipedia.org/wiki/Jordan–Wigner_transformation))\n",
        "* Друга частина $|0011\\rangle$ кодує подвійно-збуджений стан, де дві частки збуджені із кубітів 0, 1 до 2, 3.\n",
        "\n",
        "### Квантові вентилі\n",
        "\n",
        "Квантове коло (набір квантових вентилів) для підготовки пробного стану $\\vert \\Psi(\\theta) \\rangle$ схематично зображений на малюнку.\n",
        "\n",
        "<img src=\"./sketch_circuit.png\" width=\"600px\">\n",
        "\n",
        "На цьому рисунку квантовий вентиль $G^{(2)}$ відповідає операції подвійного збудження\n",
        "[DoubleExcitation](https://docs.pennylane.ai/en/stable/code/api/pennylane.DoubleExcitation.html#pennylane.DoubleExcitation).\n",
        "\n",
        "В PennyLane вона реалізована як [Поворот Ґівенса](https://uk.wikipedia.org/wiki/Поворот_Ґівенса), який зв'язує 4-кубітні стани $\\vert 1100 \\rangle$ і $\\vert 0011 \\rangle$.\n",
        "\n",
        "### Квантова програма\n",
        "\n",
        "Для імплементації квантової програми із PennyLane ми скористаємося вбудованою функцією `hf_state`, яка генерує вектор, що представляє стан Гартрі-Фока.\n"
      ]
    },
    {
      "cell_type": "code",
      "execution_count": null,
      "id": "90bdd9e8",
      "metadata": {
        "colab": {
          "base_uri": "https://localhost:8080/"
        },
        "id": "90bdd9e8",
        "outputId": "89dd3439-f99c-4099-df5c-86bb9b5c195d"
      },
      "outputs": [
        {
          "name": "stdout",
          "output_type": "stream",
          "text": [
            "[1 1 1 1 0 0 0 0]\n"
          ]
        }
      ],
      "source": [
        "electrons = 2\n",
        "# electrons = 4\n",
        "hf = qml.qchem.hf_state(electrons = electrons, orbitals = qubits)\n",
        "print(hf)"
      ]
    },
    {
      "cell_type": "markdown",
      "id": "34bdfbab",
      "metadata": {
        "id": "34bdfbab"
      },
      "source": [
        "Масив `hf` використовується в операції `BasisState` для ініціалізації квантових регістрів.\n",
        "\n",
        "Потім ми використовуємо операцію `DoubleExcitation` на 4-х кубітах. І у наступному кроці\n",
        "розраховуємо очікуване значення Гамільтоніана молекули для пробного стану - операція `expval`\n",
        "\n",
        "Декоратор `qml.qnode` служить для означення нашого квантового кола `ansatz` як вершини у\n",
        "графі гібридних обчислень із параметром $\\theta$:\n"
      ]
    },
    {
      "cell_type": "code",
      "execution_count": null,
      "id": "00953fbd",
      "metadata": {
        "id": "00953fbd"
      },
      "outputs": [],
      "source": [
        "@qml.qnode(device)\n",
        "def ansatz(param, wires):\n",
        "    qml.BasisState(hf, wires=wires)\n",
        "    qml.DoubleExcitation(param, wires=[0, 2, 4, 6])\n",
        "    qml.DoubleExcitation(param, wires=[1, 3, 5, 7])\n",
        "    return qml.expval(H)\n",
        "\n",
        "# @qml.qnode(device)\n",
        "# def circuit(params, wires, s_wires, d_wires, hf_state):\n",
        "#     qml.UCCSD(params, wires, s_wires, d_wires, hf_state)\n",
        "#     return qml.expval(H)"
      ]
    },
    {
      "cell_type": "markdown",
      "id": "50e7b02c",
      "metadata": {
        "id": "50e7b02c"
      },
      "source": [
        "Тепер ми можемо визначити нашу функцію втрат як очікуване значення, що розраховується вище:"
      ]
    },
    {
      "cell_type": "code",
      "execution_count": null,
      "id": "9e35452e",
      "metadata": {
        "id": "9e35452e"
      },
      "outputs": [],
      "source": [
        "def cost_fn(param):\n",
        "    return ansatz(param, wires=range(qubits))"
      ]
    },
    {
      "cell_type": "markdown",
      "id": "fdcd1622",
      "metadata": {
        "id": "fdcd1622"
      },
      "source": [
        "### Знаходження основного стану\n",
        "\n",
        "Тепер ми використаємо нашу цільову функцію для знаходження основного стану молекули $H_2$.\n",
        "\n",
        "Для початку означимо класичний оптимізатор, який використовує градієнтний спуск."
      ]
    },
    {
      "cell_type": "code",
      "execution_count": null,
      "id": "accad6ce",
      "metadata": {
        "id": "accad6ce"
      },
      "outputs": [],
      "source": [
        "max_iterations = 100\n",
        "conv_tol = 1e-06\n",
        "\n",
        "opt = optax.sgd(learning_rate=0.4)"
      ]
    },
    {
      "cell_type": "markdown",
      "id": "26a4680a",
      "metadata": {
        "id": "26a4680a"
      },
      "source": [
        "Ми ініціалізуємо параметр $\\theta = 0$, що відповідає стану Hartree-Fock."
      ]
    },
    {
      "cell_type": "code",
      "execution_count": null,
      "id": "8284c900",
      "metadata": {
        "colab": {
          "base_uri": "https://localhost:8080/"
        },
        "id": "8284c900",
        "outputId": "01b8e7f0-2250-4dff-acf0-52470371b1b7"
      },
      "outputs": [
        {
          "name": "stdout",
          "output_type": "stream",
          "text": [
            "Крок = 0,  Енергія = -1.74159044 Ha\n",
            "Крок = 2,  Енергія = -1.74215982 Ha\n",
            "Крок = 4,  Енергія = -1.74220163 Ha\n",
            "Крок = 6,  Енергія = -1.74220469 Ha\n",
            "\n",
            "Кінцеве значення енергії = -1.74220469 Ha\n",
            "\n",
            "Оптимальне значення параметра = -0.0349\n"
          ]
        }
      ],
      "source": [
        "theta = np.array(0.)\n",
        "\n",
        "# store the values of the cost function\n",
        "energy = [cost_fn(theta)]\n",
        "\n",
        "# store the values of the circuit parameter\n",
        "angle = [theta]\n",
        "\n",
        "opt_state = opt.init(theta)\n",
        "\n",
        "for n in range(max_iterations):\n",
        "\n",
        "    gradient = jax.grad(cost_fn)(theta)\n",
        "    updates, opt_state = opt.update(gradient, opt_state)\n",
        "    theta = optax.apply_updates(theta, updates)\n",
        "\n",
        "    angle.append(theta)\n",
        "    energy.append(cost_fn(theta))\n",
        "\n",
        "    conv = np.abs(energy[-1] - energy[-2])\n",
        "\n",
        "    if n % 2 == 0:\n",
        "        print(f\"Крок = {n},  Енергія = {energy[-1]:.8f} Ha\")\n",
        "\n",
        "    if conv <= conv_tol:\n",
        "        break\n",
        "\n",
        "print(\"\\n\" f\"Кінцеве значення енергії = {energy[-1]:.8f} Ha\")\n",
        "print(\"\\n\" f\"Оптимальне значення параметра = {angle[-1]:.4f}\")"
      ]
    },
    {
      "cell_type": "markdown",
      "id": "7d51c358",
      "metadata": {
        "id": "7d51c358"
      },
      "source": [
        "### Графіки\n",
        "\n",
        "Виведемо значення енергії і параметра $\\theta$ на графіки:"
      ]
    },
    {
      "cell_type": "code",
      "execution_count": null,
      "id": "166559eb",
      "metadata": {
        "id": "166559eb"
      },
      "outputs": [],
      "source": [
        "import matplotlib.pyplot as plt\n",
        "\n",
        "fig = plt.figure()\n",
        "fig.set_figheight(5)\n",
        "fig.set_figwidth(12)\n",
        "\n",
        "# Full configuration interaction (FCI) energy computed classically\n",
        "E_fci = -1.136189454088\n",
        "\n",
        "# Add energy plot on column 1\n",
        "ax1 = fig.add_subplot(121)\n",
        "ax1.plot(range(n + 2), energy, \"go\", ls=\"dashed\")\n",
        "ax1.plot(range(n + 2), np.full(n + 2, E_fci), color=\"red\")\n",
        "ax1.set_xlabel(\"Крок оптимізації\", fontsize=13)\n",
        "ax1.set_ylabel(\"Енергія (Hartree)\", fontsize=13)\n",
        "ax1.text(0.5, -1.1176, r\"$E_\\mathrm{HF}$\", fontsize=15)\n",
        "ax1.text(0, -1.1357, r\"$E_\\mathrm{FCI}$\", fontsize=15)\n",
        "plt.xticks(fontsize=12)\n",
        "plt.yticks(fontsize=12)\n",
        "\n",
        "# Add angle plot on column 2\n",
        "ax2 = fig.add_subplot(122)\n",
        "ax2.plot(range(n + 2), angle, \"go\", ls=\"dashed\")\n",
        "ax2.set_xlabel(\"Крок оптимізації\", fontsize=13)\n",
        "ax2.set_ylabel(\"Параметр $\\\\theta$ (rad)\", fontsize=13)\n",
        "plt.xticks(fontsize=12)\n",
        "plt.yticks(fontsize=12)\n",
        "\n",
        "plt.subplots_adjust(wspace=0.3, bottom=0.2)\n",
        "plt.show()"
      ]
    },
    {
      "cell_type": "markdown",
      "id": "b0f66977",
      "metadata": {
        "id": "b0f66977"
      },
      "source": [
        "### Результати\n",
        "\n",
        "У нашому випадку VQE сходиться після десятка ітерацій, для більш складних проблем може вимагатися 1000-10000 ітерацій (shots).\n",
        "\n",
        "Оптимальне значення параметра $\\theta^* = 0.208$ визначає стан\n",
        "\n",
        "$$\\vert \\Psi(\\theta^*) \\rangle = 0.994~\\vert 1100 \\rangle - 0.104~\\vert 0011 \\rangle,$$\n",
        "\n",
        "який є основним станом молекули $H_2$."
      ]
    },
    {
      "cell_type": "markdown",
      "id": "dc8ca078",
      "metadata": {
        "id": "dc8ca078"
      },
      "source": [
        "## Посилання\n",
        "\n",
        "* Abhinav Kandala et al., \"Hardware-efficient Variational Quantum Eigensolver for Small Molecules and Quantum Magnets\". [arXiv:1704.05018](https://arxiv.org/pdf/1704.05018.pdf)\n",
        "* Alberto Peruzzo, Jarrod McClean et al., “A variational eigenvalue solver on a photonic quantum processor”. [Nature Communications 5, 4213 (2014)](https://www.nature.com/articles/ncomms5213?origin=ppub).\n",
        "* Jacob T. Seeley, Martin J. Richard, Peter J. Love. “The Bravyi-Kitaev transformation for quantum computation of electronic structure”. [Journal of Chemical Physics 137, 224109 (2012)](https://aip.scitation.org/doi/abs/10.1063/1.4768229).\n",
        "* Introduction to Quantum Chemistry | PennyLane Tutorial https://www.youtube.com/watch?v=khC0CCjxB7k\n",
        "* Variational Quantum Eigensolver (VQE) | PennyLane Tutorial https://www.youtube.com/watch?v=qiRtUUZ5s9s\n",
        "* Метод Рітца https://uk.wikipedia.org/wiki/Метод_Рітца"
      ]
    }
  ],
  "metadata": {
    "colab": {
      "provenance": []
    },
    "kernelspec": {
      "display_name": "Python 3 (ipykernel)",
      "language": "python",
      "name": "python3"
    },
    "language_info": {
      "codemirror_mode": {
        "name": "ipython",
        "version": 3
      },
      "file_extension": ".py",
      "mimetype": "text/x-python",
      "name": "python",
      "nbconvert_exporter": "python",
      "pygments_lexer": "ipython3",
      "version": "3.9.18"
    }
  },
  "nbformat": 4,
  "nbformat_minor": 5
}
